{
 "metadata": {
  "language": "Julia",
  "name": "",
  "signature": "sha256:e58b1ca4c0d9afbdd2fdb0c385e3868f439762f1788cb2882709b4a91bfd0268"
 },
 "nbformat": 3,
 "nbformat_minor": 0,
 "worksheets": [
  {
   "cells": [
    {
     "cell_type": "heading",
     "level": 1,
     "metadata": {},
     "source": [
      "Tarea 6"
     ]
    },
    {
     "cell_type": "heading",
     "level": 2,
     "metadata": {},
     "source": [
      "1. Integradores de EDOs"
     ]
    },
    {
     "cell_type": "heading",
     "level": 3,
     "metadata": {},
     "source": [
      "$i)$ Define funciones para hacer *un solo paso* de los m\u00e9todos de Euler, punto medio, y RK4. Aceptan la funci\u00f3n que integrar, el valor actual de la variable independiente, y el tama\u00f1o de paso, y regresan el nuevo valor de la variable independiente."
     ]
    },
    {
     "cell_type": "code",
     "collapsed": false,
     "input": [
      "function "
     ],
     "language": "python",
     "metadata": {},
     "outputs": [],
     "prompt_number": 1
    },
    {
     "cell_type": "heading",
     "level": 3,
     "metadata": {},
     "source": [
      "$ii)$ Define una funci\u00f3n `integrar` que acepta un m\u00e9todo de integraci\u00f3n que usar, una funci\u00f3n, el rango de tiempos y el tama\u00f1o del paso."
     ]
    },
    {
     "cell_type": "code",
     "collapsed": false,
     "input": [],
     "language": "python",
     "metadata": {},
     "outputs": [],
     "prompt_number": 2
    },
    {
     "cell_type": "heading",
     "level": 3,
     "metadata": {},
     "source": [
      "$iii)$ Compara el funcionamiento de estos 3 m\u00e9todos para el oscilador arm\u00f3nico."
     ]
    },
    {
     "cell_type": "code",
     "collapsed": false,
     "input": [],
     "language": "python",
     "metadata": {},
     "outputs": [],
     "prompt_number": 3
    },
    {
     "cell_type": "heading",
     "level": 3,
     "metadata": {},
     "source": [
      "$iv)$ Dibuja curvas de Lissajous para dos osciladores arm\u00f3nicos independientes en $x$ y $y$."
     ]
    },
    {
     "cell_type": "code",
     "collapsed": false,
     "input": [],
     "language": "python",
     "metadata": {},
     "outputs": [],
     "prompt_number": 4
    },
    {
     "cell_type": "heading",
     "level": 3,
     "metadata": {},
     "source": [
      "$v)$ Resuelva num\u00e9ricamente el problema de los dos carritos de la tarea 5."
     ]
    },
    {
     "cell_type": "code",
     "collapsed": false,
     "input": [],
     "language": "python",
     "metadata": {},
     "outputs": []
    },
    {
     "cell_type": "heading",
     "level": 2,
     "metadata": {},
     "source": [
      "2. Problema de los 2 cuerpos."
     ]
    },
    {
     "cell_type": "heading",
     "level": 3,
     "metadata": {},
     "source": [
      "$i)$Resuelva num\u00e9ricamente el problema de 2 planetas que se atraen mutuamente por gravedad. Puedes suponer que viven en un plano (en lugar de en el espacio 3D).  Dibuja las trayectorias de los dos planetas, buscando todos los comportamientos posibles."
     ]
    },
    {
     "cell_type": "markdown",
     "metadata": {},
     "source": [
      "\n",
      "\n"
     ]
    },
    {
     "cell_type": "code",
     "collapsed": false,
     "input": [],
     "language": "python",
     "metadata": {},
     "outputs": [],
     "prompt_number": 6
    },
    {
     "cell_type": "heading",
     "level": 2,
     "metadata": {},
     "source": [
      "3. Paquete `ODE.jl`"
     ]
    },
    {
     "cell_type": "heading",
     "level": 3,
     "metadata": {},
     "source": [
      "$i) $Investiga c\u00f3mo funciona el paquete de Julia `ODE.jl` para resolver ecuaciones diferenciales, y util\u00edzalo para resolver tu EDO favorita de la f\u00edsica."
     ]
    },
    {
     "cell_type": "code",
     "collapsed": false,
     "input": [],
     "language": "python",
     "metadata": {},
     "outputs": []
    },
    {
     "cell_type": "heading",
     "level": 1,
     "metadata": {},
     "source": [
      "END"
     ]
    }
   ],
   "metadata": {}
  }
 ]
}